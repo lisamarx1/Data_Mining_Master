{
 "cells": [
  {
   "cell_type": "code",
   "execution_count": 45,
   "metadata": {},
   "outputs": [],
   "source": [
    "import os \n",
    "from datetime import datetime, timedelta\n",
    "import pandas as pd\n",
    "from bs4 import BeautifulSoup\n",
    "import sqlite3\n",
    "import requests"
   ]
  },
  {
   "cell_type": "code",
   "execution_count": 46,
   "metadata": {},
   "outputs": [
    {
     "data": {
      "text/plain": [
       "'/Users/lisamarx/Desktop/Studium/DataMining/Data_Mining_Master/Code'"
      ]
     },
     "execution_count": 46,
     "metadata": {},
     "output_type": "execute_result"
    }
   ],
   "source": [
    "os.getcwd()"
   ]
  },
  {
   "cell_type": "code",
   "execution_count": 47,
   "metadata": {},
   "outputs": [],
   "source": [
    "STORAGE_PATH = os.path.join('..', 'input')\n",
    "SQL_PATH = os.path.join('..', 'dwh.sqlite3')"
   ]
  },
  {
   "cell_type": "code",
   "execution_count": 48,
   "metadata": {},
   "outputs": [],
   "source": [
    "connection = sqlite3.connect(SQL_PATH)"
   ]
  },
  {
   "cell_type": "code",
   "execution_count": 49,
   "metadata": {},
   "outputs": [],
   "source": [
    "data_path = os.path.join(STORAGE_PATH, \"inputdata.xls\")\n",
    "#g_path = os.path.join(STORAGE_PATH, \"G_Anreise.xls\")\n",
    "#l_path = os.path.join(STORAGE_PATH, \"L_Anreise.xls\")\n",
    "#r_path = os.path.join(STORAGE_PATH, \"R_Anreise.xls\")\n",
    "#a_path = os.path.join(STORAGE_PATH, \"a_reservations.xls\")"
   ]
  },
  {
   "cell_type": "code",
   "execution_count": 50,
   "metadata": {},
   "outputs": [
    {
     "data": {
      "text/html": [
       "<div>\n",
       "<style scoped>\n",
       "    .dataframe tbody tr th:only-of-type {\n",
       "        vertical-align: middle;\n",
       "    }\n",
       "\n",
       "    .dataframe tbody tr th {\n",
       "        vertical-align: top;\n",
       "    }\n",
       "\n",
       "    .dataframe thead th {\n",
       "        text-align: right;\n",
       "    }\n",
       "</style>\n",
       "<table border=\"1\" class=\"dataframe\">\n",
       "  <thead>\n",
       "    <tr style=\"text-align: right;\">\n",
       "      <th></th>\n",
       "      <th>Plattform</th>\n",
       "      <th>ID</th>\n",
       "      <th>Status</th>\n",
       "      <th>Name</th>\n",
       "      <th>Kontakt</th>\n",
       "      <th>Erwachsene</th>\n",
       "      <th>Kinder</th>\n",
       "      <th>Kleinkinder</th>\n",
       "      <th>Anreise</th>\n",
       "      <th>Abreise</th>\n",
       "      <th>...</th>\n",
       "      <th>Lage</th>\n",
       "      <th>Ausstattung</th>\n",
       "      <th>Komfort</th>\n",
       "      <th>Preis-Leistungs-Verhaeltnis</th>\n",
       "      <th>Zimmerausstattung</th>\n",
       "      <th>WLAN</th>\n",
       "      <th>Betten</th>\n",
       "      <th>Text</th>\n",
       "      <th>Unnamed: 26</th>\n",
       "      <th>Unnamed: 27</th>\n",
       "    </tr>\n",
       "  </thead>\n",
       "  <tbody>\n",
       "    <tr>\n",
       "      <th>0</th>\n",
       "      <td>AirBnB</td>\n",
       "      <td>HMFKXZ4SKC</td>\n",
       "      <td>Ok</td>\n",
       "      <td>Ebubekir Aƒüƒ±rba≈ü</td>\n",
       "      <td>NaN</td>\n",
       "      <td>5.0</td>\n",
       "      <td>0.0</td>\n",
       "      <td>0.0</td>\n",
       "      <td>2018-03-10</td>\n",
       "      <td>2018-03-11</td>\n",
       "      <td>...</td>\n",
       "      <td>NaN</td>\n",
       "      <td>NaN</td>\n",
       "      <td>NaN</td>\n",
       "      <td>NaN</td>\n",
       "      <td>NaN</td>\n",
       "      <td>NaN</td>\n",
       "      <td>NaN</td>\n",
       "      <td>NaN</td>\n",
       "      <td>NaN</td>\n",
       "      <td>NaN</td>\n",
       "    </tr>\n",
       "    <tr>\n",
       "      <th>1</th>\n",
       "      <td>AirBnB</td>\n",
       "      <td>HMSDDSH9AQ</td>\n",
       "      <td>Ok</td>\n",
       "      <td>Manfred Josef Jansky</td>\n",
       "      <td>NaN</td>\n",
       "      <td>2.0</td>\n",
       "      <td>2.0</td>\n",
       "      <td>0.0</td>\n",
       "      <td>2018-03-15</td>\n",
       "      <td>2018-03-18</td>\n",
       "      <td>...</td>\n",
       "      <td>NaN</td>\n",
       "      <td>NaN</td>\n",
       "      <td>NaN</td>\n",
       "      <td>NaN</td>\n",
       "      <td>NaN</td>\n",
       "      <td>NaN</td>\n",
       "      <td>NaN</td>\n",
       "      <td>NaN</td>\n",
       "      <td>NaN</td>\n",
       "      <td>NaN</td>\n",
       "    </tr>\n",
       "    <tr>\n",
       "      <th>2</th>\n",
       "      <td>AirBnB</td>\n",
       "      <td>HMA35R24QF</td>\n",
       "      <td>Ok</td>\n",
       "      <td>Jared Jankowsky</td>\n",
       "      <td>NaN</td>\n",
       "      <td>3.0</td>\n",
       "      <td>2.0</td>\n",
       "      <td>0.0</td>\n",
       "      <td>2018-03-24</td>\n",
       "      <td>2018-03-25</td>\n",
       "      <td>...</td>\n",
       "      <td>NaN</td>\n",
       "      <td>NaN</td>\n",
       "      <td>NaN</td>\n",
       "      <td>NaN</td>\n",
       "      <td>NaN</td>\n",
       "      <td>NaN</td>\n",
       "      <td>NaN</td>\n",
       "      <td>NaN</td>\n",
       "      <td>NaN</td>\n",
       "      <td>NaN</td>\n",
       "    </tr>\n",
       "    <tr>\n",
       "      <th>3</th>\n",
       "      <td>AirBnB</td>\n",
       "      <td>HMRC5SB2BF</td>\n",
       "      <td>Ok</td>\n",
       "      <td>Vinod Mullasseril</td>\n",
       "      <td>NaN</td>\n",
       "      <td>4.0</td>\n",
       "      <td>2.0</td>\n",
       "      <td>0.0</td>\n",
       "      <td>2018-03-26</td>\n",
       "      <td>2018-03-27</td>\n",
       "      <td>...</td>\n",
       "      <td>NaN</td>\n",
       "      <td>NaN</td>\n",
       "      <td>NaN</td>\n",
       "      <td>NaN</td>\n",
       "      <td>NaN</td>\n",
       "      <td>NaN</td>\n",
       "      <td>NaN</td>\n",
       "      <td>NaN</td>\n",
       "      <td>NaN</td>\n",
       "      <td>NaN</td>\n",
       "    </tr>\n",
       "    <tr>\n",
       "      <th>4</th>\n",
       "      <td>AirBnB</td>\n",
       "      <td>HMSEEW523B</td>\n",
       "      <td>Ok</td>\n",
       "      <td>Ë∞¶ Â∑¶</td>\n",
       "      <td>NaN</td>\n",
       "      <td>5.0</td>\n",
       "      <td>0.0</td>\n",
       "      <td>0.0</td>\n",
       "      <td>2018-03-27</td>\n",
       "      <td>2018-03-29</td>\n",
       "      <td>...</td>\n",
       "      <td>NaN</td>\n",
       "      <td>NaN</td>\n",
       "      <td>NaN</td>\n",
       "      <td>NaN</td>\n",
       "      <td>NaN</td>\n",
       "      <td>NaN</td>\n",
       "      <td>NaN</td>\n",
       "      <td>NaN</td>\n",
       "      <td>NaN</td>\n",
       "      <td>NaN</td>\n",
       "    </tr>\n",
       "  </tbody>\n",
       "</table>\n",
       "<p>5 rows × 28 columns</p>\n",
       "</div>"
      ],
      "text/plain": [
       "  Plattform          ID Status                  Name Kontakt  Erwachsene  \\\n",
       "0    AirBnB  HMFKXZ4SKC     Ok   Ebubekir Aƒüƒ±rba≈ü     NaN         5.0   \n",
       "1    AirBnB  HMSDDSH9AQ     Ok  Manfred Josef Jansky     NaN         2.0   \n",
       "2    AirBnB  HMA35R24QF     Ok       Jared Jankowsky     NaN         3.0   \n",
       "3    AirBnB  HMRC5SB2BF     Ok     Vinod Mullasseril     NaN         4.0   \n",
       "4    AirBnB  HMSEEW523B     Ok               Ë∞¶ Â∑¶     NaN         5.0   \n",
       "\n",
       "   Kinder  Kleinkinder    Anreise    Abreise  ...  Lage Ausstattung Komfort  \\\n",
       "0     0.0          0.0 2018-03-10 2018-03-11  ...   NaN         NaN     NaN   \n",
       "1     2.0          0.0 2018-03-15 2018-03-18  ...   NaN         NaN     NaN   \n",
       "2     2.0          0.0 2018-03-24 2018-03-25  ...   NaN         NaN     NaN   \n",
       "3     2.0          0.0 2018-03-26 2018-03-27  ...   NaN         NaN     NaN   \n",
       "4     0.0          0.0 2018-03-27 2018-03-29  ...   NaN         NaN     NaN   \n",
       "\n",
       "  Preis-Leistungs-Verhaeltnis Zimmerausstattung  WLAN  Betten  Text  \\\n",
       "0                         NaN               NaN   NaN     NaN   NaN   \n",
       "1                         NaN               NaN   NaN     NaN   NaN   \n",
       "2                         NaN               NaN   NaN     NaN   NaN   \n",
       "3                         NaN               NaN   NaN     NaN   NaN   \n",
       "4                         NaN               NaN   NaN     NaN   NaN   \n",
       "\n",
       "   Unnamed: 26  Unnamed: 27  \n",
       "0          NaN          NaN  \n",
       "1          NaN          NaN  \n",
       "2          NaN          NaN  \n",
       "3          NaN          NaN  \n",
       "4          NaN          NaN  \n",
       "\n",
       "[5 rows x 28 columns]"
      ]
     },
     "execution_count": 50,
     "metadata": {},
     "output_type": "execute_result"
    }
   ],
   "source": [
    "data_file = pd.read_excel(data_path)\n",
    "data_file.head()"
   ]
  },
  {
   "cell_type": "code",
   "execution_count": 53,
   "metadata": {},
   "outputs": [
    {
     "data": {
      "text/plain": [
       "<sqlite3.Cursor at 0x7f9811619ce0>"
      ]
     },
     "execution_count": 53,
     "metadata": {},
     "output_type": "execute_result"
    }
   ],
   "source": [
    "#Löschen der Tabelle\n",
    "connection.cursor().execute(\"DROP TABLE IF EXISTS wohnungen;\")"
   ]
  },
  {
   "cell_type": "code",
   "execution_count": 54,
   "metadata": {},
   "outputs": [
    {
     "data": {
      "text/plain": [
       "1961"
      ]
     },
     "execution_count": 54,
     "metadata": {},
     "output_type": "execute_result"
    }
   ],
   "source": [
    "data_file.to_sql(\"wohnungen\", connection, index=False, if_exists=\"append\")"
   ]
  }
 ],
 "metadata": {
  "kernelspec": {
   "display_name": "base",
   "language": "python",
   "name": "python3"
  },
  "language_info": {
   "codemirror_mode": {
    "name": "ipython",
    "version": 3
   },
   "file_extension": ".py",
   "mimetype": "text/x-python",
   "name": "python",
   "nbconvert_exporter": "python",
   "pygments_lexer": "ipython3",
   "version": "3.8.13"
  },
  "orig_nbformat": 4
 },
 "nbformat": 4,
 "nbformat_minor": 2
}
